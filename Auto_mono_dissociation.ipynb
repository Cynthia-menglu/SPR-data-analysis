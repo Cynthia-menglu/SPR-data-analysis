{
 "cells": [
  {
   "cell_type": "code",
   "execution_count": 1,
   "metadata": {},
   "outputs": [],
   "source": [
    "#Import packages\n",
    "import pandas as pd\n",
    "import numpy as np\n",
    "import scipy\n",
    "import warnings\n",
    "import matplotlib.pyplot as plt\n",
    "from scipy.optimize import curve_fit\n",
    "from scipy.optimize import differential_evolution\n",
    "from sklearn.metrics import r2_score\n",
    "from lmfit import Model"
   ]
  },
  {
   "cell_type": "code",
   "execution_count": 2,
   "metadata": {},
   "outputs": [
    {
     "name": "stdout",
     "output_type": "stream",
     "text": [
      "Data file(including extension): Dissociation data.csv\n"
     ]
    }
   ],
   "source": [
    "file = input('Data file(including extension): ')"
   ]
  },
  {
   "cell_type": "code",
   "execution_count": 3,
   "metadata": {},
   "outputs": [
    {
     "data": {
      "text/html": [
       "<div>\n",
       "<style scoped>\n",
       "    .dataframe tbody tr th:only-of-type {\n",
       "        vertical-align: middle;\n",
       "    }\n",
       "\n",
       "    .dataframe tbody tr th {\n",
       "        vertical-align: top;\n",
       "    }\n",
       "\n",
       "    .dataframe thead th {\n",
       "        text-align: right;\n",
       "    }\n",
       "</style>\n",
       "<table border=\"1\" class=\"dataframe\">\n",
       "  <thead>\n",
       "    <tr style=\"text-align: right;\">\n",
       "      <th></th>\n",
       "      <th>Unnamed: 0</th>\n",
       "      <th>T</th>\n",
       "      <th>2e-3nM</th>\n",
       "      <th>2e-2nM</th>\n",
       "      <th>2e-1nM</th>\n",
       "      <th>2nM</th>\n",
       "      <th>2e1nM</th>\n",
       "      <th>2e2nM</th>\n",
       "      <th>2e3nM</th>\n",
       "    </tr>\n",
       "  </thead>\n",
       "  <tbody>\n",
       "    <tr>\n",
       "      <th>0</th>\n",
       "      <td>3006</td>\n",
       "      <td>240.64</td>\n",
       "      <td>0.07935</td>\n",
       "      <td>0.13274</td>\n",
       "      <td>3.85532</td>\n",
       "      <td>24.8685</td>\n",
       "      <td>57.0915</td>\n",
       "      <td>75.4663</td>\n",
       "      <td>93.1211</td>\n",
       "    </tr>\n",
       "    <tr>\n",
       "      <th>1</th>\n",
       "      <td>3007</td>\n",
       "      <td>240.74</td>\n",
       "      <td>0.05280</td>\n",
       "      <td>0.20930</td>\n",
       "      <td>3.81783</td>\n",
       "      <td>24.8810</td>\n",
       "      <td>57.0751</td>\n",
       "      <td>75.1319</td>\n",
       "      <td>88.6467</td>\n",
       "    </tr>\n",
       "    <tr>\n",
       "      <th>2</th>\n",
       "      <td>3008</td>\n",
       "      <td>240.84</td>\n",
       "      <td>0.08794</td>\n",
       "      <td>0.14446</td>\n",
       "      <td>3.80923</td>\n",
       "      <td>24.9005</td>\n",
       "      <td>57.0219</td>\n",
       "      <td>74.9647</td>\n",
       "      <td>86.6342</td>\n",
       "    </tr>\n",
       "    <tr>\n",
       "      <th>3</th>\n",
       "      <td>3009</td>\n",
       "      <td>240.94</td>\n",
       "      <td>0.07858</td>\n",
       "      <td>0.17258</td>\n",
       "      <td>3.77954</td>\n",
       "      <td>24.9084</td>\n",
       "      <td>56.9774</td>\n",
       "      <td>74.9756</td>\n",
       "      <td>85.7443</td>\n",
       "    </tr>\n",
       "    <tr>\n",
       "      <th>4</th>\n",
       "      <td>3010</td>\n",
       "      <td>241.04</td>\n",
       "      <td>0.11295</td>\n",
       "      <td>0.18977</td>\n",
       "      <td>3.71392</td>\n",
       "      <td>24.9521</td>\n",
       "      <td>56.9751</td>\n",
       "      <td>74.8186</td>\n",
       "      <td>84.9693</td>\n",
       "    </tr>\n",
       "    <tr>\n",
       "      <th>...</th>\n",
       "      <td>...</td>\n",
       "      <td>...</td>\n",
       "      <td>...</td>\n",
       "      <td>...</td>\n",
       "      <td>...</td>\n",
       "      <td>...</td>\n",
       "      <td>...</td>\n",
       "      <td>...</td>\n",
       "      <td>...</td>\n",
       "    </tr>\n",
       "    <tr>\n",
       "      <th>8990</th>\n",
       "      <td>11996</td>\n",
       "      <td>1139.64</td>\n",
       "      <td>0.16920</td>\n",
       "      <td>0.39133</td>\n",
       "      <td>3.59751</td>\n",
       "      <td>21.9006</td>\n",
       "      <td>44.5719</td>\n",
       "      <td>51.5545</td>\n",
       "      <td>52.9342</td>\n",
       "    </tr>\n",
       "    <tr>\n",
       "      <th>8991</th>\n",
       "      <td>11997</td>\n",
       "      <td>1139.74</td>\n",
       "      <td>0.17076</td>\n",
       "      <td>0.41789</td>\n",
       "      <td>3.59986</td>\n",
       "      <td>21.9076</td>\n",
       "      <td>44.5594</td>\n",
       "      <td>51.5772</td>\n",
       "      <td>52.9264</td>\n",
       "    </tr>\n",
       "    <tr>\n",
       "      <th>8992</th>\n",
       "      <td>11998</td>\n",
       "      <td>1139.84</td>\n",
       "      <td>0.16609</td>\n",
       "      <td>0.42180</td>\n",
       "      <td>3.57644</td>\n",
       "      <td>21.8967</td>\n",
       "      <td>44.5407</td>\n",
       "      <td>51.6006</td>\n",
       "      <td>52.9264</td>\n",
       "    </tr>\n",
       "    <tr>\n",
       "      <th>8993</th>\n",
       "      <td>11999</td>\n",
       "      <td>1139.94</td>\n",
       "      <td>0.17311</td>\n",
       "      <td>0.40540</td>\n",
       "      <td>3.59283</td>\n",
       "      <td>21.8849</td>\n",
       "      <td>44.5524</td>\n",
       "      <td>51.6006</td>\n",
       "      <td>52.9295</td>\n",
       "    </tr>\n",
       "    <tr>\n",
       "      <th>8994</th>\n",
       "      <td>12000</td>\n",
       "      <td>1140.04</td>\n",
       "      <td>0.17076</td>\n",
       "      <td>0.38742</td>\n",
       "      <td>3.59751</td>\n",
       "      <td>21.8881</td>\n",
       "      <td>44.5524</td>\n",
       "      <td>51.6124</td>\n",
       "      <td>52.9428</td>\n",
       "    </tr>\n",
       "  </tbody>\n",
       "</table>\n",
       "<p>8995 rows × 9 columns</p>\n",
       "</div>"
      ],
      "text/plain": [
       "      Unnamed: 0        T   2e-3nM   2e-2nM   2e-1nM      2nM    2e1nM  \\\n",
       "0           3006   240.64  0.07935  0.13274  3.85532  24.8685  57.0915   \n",
       "1           3007   240.74  0.05280  0.20930  3.81783  24.8810  57.0751   \n",
       "2           3008   240.84  0.08794  0.14446  3.80923  24.9005  57.0219   \n",
       "3           3009   240.94  0.07858  0.17258  3.77954  24.9084  56.9774   \n",
       "4           3010   241.04  0.11295  0.18977  3.71392  24.9521  56.9751   \n",
       "...          ...      ...      ...      ...      ...      ...      ...   \n",
       "8990       11996  1139.64  0.16920  0.39133  3.59751  21.9006  44.5719   \n",
       "8991       11997  1139.74  0.17076  0.41789  3.59986  21.9076  44.5594   \n",
       "8992       11998  1139.84  0.16609  0.42180  3.57644  21.8967  44.5407   \n",
       "8993       11999  1139.94  0.17311  0.40540  3.59283  21.8849  44.5524   \n",
       "8994       12000  1140.04  0.17076  0.38742  3.59751  21.8881  44.5524   \n",
       "\n",
       "        2e2nM    2e3nM  \n",
       "0     75.4663  93.1211  \n",
       "1     75.1319  88.6467  \n",
       "2     74.9647  86.6342  \n",
       "3     74.9756  85.7443  \n",
       "4     74.8186  84.9693  \n",
       "...       ...      ...  \n",
       "8990  51.5545  52.9342  \n",
       "8991  51.5772  52.9264  \n",
       "8992  51.6006  52.9264  \n",
       "8993  51.6006  52.9295  \n",
       "8994  51.6124  52.9428  \n",
       "\n",
       "[8995 rows x 9 columns]"
      ]
     },
     "execution_count": 3,
     "metadata": {},
     "output_type": "execute_result"
    }
   ],
   "source": [
    "#Read the data file\n",
    "df = pd.read_csv(file)\n",
    "df"
   ]
  },
  {
   "cell_type": "code",
   "execution_count": 4,
   "metadata": {},
   "outputs": [],
   "source": [
    "#Define model function\n",
    "def func(x, bmax, koff, shift):\n",
    "    return bmax*np.exp(-koff*(x-shift))"
   ]
  },
  {
   "cell_type": "code",
   "execution_count": 5,
   "metadata": {},
   "outputs": [],
   "source": [
    "# function for genetic algorithm to minimize (sum of squared error)\n",
    "def sumOfSquaredError(parameterTuple):\n",
    "    warnings.filterwarnings(\"ignore\") # do not print warnings by genetic algorithm\n",
    "    val = func(xData, *parameterTuple)\n",
    "    return np.sum((yData - val) ** 2.0)"
   ]
  },
  {
   "cell_type": "code",
   "execution_count": 6,
   "metadata": {},
   "outputs": [],
   "source": [
    "def generate_Initial_Parameters():\n",
    "    \n",
    "    parameterBounds = []\n",
    "    parameterBounds.append([0.0, 100.0]) # search bounds for a\n",
    "    parameterBounds.append([0.0, 10.0]) # search bounds for koff_1\n",
    "    \n",
    "    # \"seed\" the numpy random number generator for repeatable results\n",
    "    result = differential_evolution(sumOfSquaredError, parameterBounds, seed=2)\n",
    "    return result.x"
   ]
  },
  {
   "cell_type": "code",
   "execution_count": 7,
   "metadata": {},
   "outputs": [],
   "source": [
    "def ModelAndScatterPlot(graphWidth, graphHeight):\n",
    "    f = plt.figure(figsize=(graphWidth/100.0, graphHeight/100.0), dpi=100)\n",
    "    axes = f.add_subplot(111)\n",
    "\n",
    "    # first the raw data as a scatter plot\n",
    "    axes.plot(xData, yData,  'D')\n",
    "\n",
    "    # create data for the fitted equation plot\n",
    "    xModel = np.linspace(min(xData), max(xData))\n",
    "    yModel = func(xModel, *fittedParameters)\n",
    "\n",
    "    # now the model as a line plot\n",
    "    axes.plot(xModel, yModel)\n",
    "\n",
    "    axes.set_xlabel('X Data') # X axis data label\n",
    "    axes.set_ylabel('Y Data') # Y axis data label\n",
    "\n",
    "    plt.show()\n",
    "    plt.close('all') # clean up after using pyplot\n",
    "\n",
    "graphWidth = 800\n",
    "graphHeight = 600"
   ]
  },
  {
   "cell_type": "code",
   "execution_count": 8,
   "metadata": {},
   "outputs": [
    {
     "name": "stdout",
     "output_type": "stream",
     "text": [
      "Column to be analysed: 2e-2nM\n"
     ]
    }
   ],
   "source": [
    "column = input('Column to be analysed: ')"
   ]
  },
  {
   "cell_type": "code",
   "execution_count": 17,
   "metadata": {},
   "outputs": [],
   "source": [
    "#define variables\n",
    "xData = df.loc[:, 'T']\n",
    "yData = df.loc[:, column]\n",
    "shift = df.loc[0, 'T']\n",
    "upperbounds = max(df.loc[:, column]) + 0.05*max(df.loc[:, column])"
   ]
  },
  {
   "cell_type": "code",
   "execution_count": 18,
   "metadata": {},
   "outputs": [],
   "source": [
    "# function for genetic algorithm to minimize (sum of squared error)\n",
    "def sumOfSquaredError(parameterTuple):\n",
    "    warnings.filterwarnings(\"ignore\") # do not print warnings by genetic algorithm\n",
    "    val = func(xData, *parameterTuple)\n",
    "    return np.sum((yData - val) ** 2.0)"
   ]
  },
  {
   "cell_type": "code",
   "execution_count": 19,
   "metadata": {},
   "outputs": [],
   "source": [
    "def generate_Initial_Parameters():\n",
    "    \n",
    "    parameterBounds = []\n",
    "    parameterBounds.append([0.0, 100.0]) # search bounds for bmax\n",
    "    parameterBounds.append([0.0, 1.0]) # search bounds for koff\n",
    "    parameterBounds.append([0.0, 1e3]) # search bounds for shift\n",
    "    \n",
    "    # \"seed\" the numpy random number generator for repeatable results\n",
    "    result = differential_evolution(sumOfSquaredError, parameterBounds, seed=2)\n",
    "    return result.x"
   ]
  },
  {
   "cell_type": "code",
   "execution_count": 20,
   "metadata": {},
   "outputs": [],
   "source": [
    "# by default, differential_evolution completes by calling curve_fit() using parameter bounds\n",
    "geneticParameters = generate_Initial_Parameters()"
   ]
  },
  {
   "cell_type": "code",
   "execution_count": 22,
   "metadata": {},
   "outputs": [
    {
     "name": "stdout",
     "output_type": "stream",
     "text": [
      "Fitted parameters: [0.37826461 0.        ]\n"
     ]
    }
   ],
   "source": [
    "# now call curve_fit without passing bounds from the genetic algorithm,\n",
    "# just in case the best fit parameters are aoutside those bounds\n",
    "fittedParameters, pcov = curve_fit(lambda x, bmax, koff: func(x, bmax, koff, shift), xData, yData, bounds = ([0.0, 0.0], [upperbounds, 10.0]), method = 'dogbox')\n",
    "print('Fitted parameters:', fittedParameters)\n",
    "koff = fittedParameters[1]"
   ]
  },
  {
   "cell_type": "code",
   "execution_count": 23,
   "metadata": {},
   "outputs": [
    {
     "name": "stdout",
     "output_type": "stream",
     "text": [
      "RMSE: 0.07754903312327371\n",
      "R-squared: 1.3100631690576847e-14\n"
     ]
    }
   ],
   "source": [
    "modelPredictions = func(xData, fittedParameters[0], fittedParameters[1], shift)\n",
    "absError = modelPredictions - yData\n",
    "SE = np.square(absError) # squared errors\n",
    "MSE = np.mean(SE) # mean squared errors\n",
    "RMSE = np.sqrt(MSE) # Root Mean Squared Error, RMSE\n",
    "Rsquared = 1.0 - (np.var(absError) / np.var(yData))\n",
    "print('RMSE:', RMSE)\n",
    "print('R-squared:', Rsquared)"
   ]
  },
  {
   "cell_type": "code",
   "execution_count": 24,
   "metadata": {},
   "outputs": [
    {
     "data": {
      "image/png": "[encoded data removed]",
      "text/plain": [
       "<Figure size 800x600 with 1 Axes>"
      ]
     },
     "metadata": {
      "needs_background": "light"
     },
     "output_type": "display_data"
    }
   ],
   "source": [
    "def ModelAndScatterPlot(graphWidth, graphHeight):\n",
    "    f = plt.figure(figsize=(graphWidth/100.0, graphHeight/100.0), dpi=100)\n",
    "    axes = f.add_subplot(111)\n",
    "\n",
    "    # first the raw data as a scatter plot\n",
    "    axes.plot(xData, yData,  'D')\n",
    "\n",
    "    # create data for the fitted equation plot\n",
    "    xModel = np.linspace(min(xData), max(xData))\n",
    "    yModel = func(xModel, fittedParameters[0], fittedParameters[1], shift)\n",
    "\n",
    "    # now the model as a line plot\n",
    "    axes.plot(xModel, yModel)\n",
    "\n",
    "    axes.set_xlabel('X Data') # X axis data label\n",
    "    axes.set_ylabel('Y Data') # Y axis data label\n",
    "\n",
    "    plt.show()\n",
    "    plt.close('all') # clean up after using pyplot\n",
    "\n",
    "graphWidth = 800\n",
    "graphHeight = 600\n",
    "ModelAndScatterPlot(graphWidth, graphHeight)"
   ]
  },
  {
   "cell_type": "code",
   "execution_count": 25,
   "metadata": {},
   "outputs": [
    {
     "name": "stdout",
     "output_type": "stream",
     "text": [
      "koff value of concentration 2e-2nM is 0.0\n"
     ]
    }
   ],
   "source": [
    "print('koff value of concentration', column, 'is', koff)"
   ]
  },
  {
   "cell_type": "code",
   "execution_count": null,
   "metadata": {},
   "outputs": [],
   "source": []
  }
 ],
 "metadata": {
  "kernelspec": {
   "display_name": "Python 3",
   "language": "python",
   "name": "python3"
  },
  "language_info": {
   "codemirror_mode": {
    "name": "ipython",
    "version": 3
   },
   "file_extension": ".py",
   "mimetype": "text/x-python",
   "name": "python",
   "nbconvert_exporter": "python",
   "pygments_lexer": "ipython3",
   "version": "3.8.3"
  }
 },
 "nbformat": 4,
 "nbformat_minor": 4
}
