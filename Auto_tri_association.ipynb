{
 "cells": [
  {
   "cell_type": "code",
   "execution_count": 1,
   "metadata": {},
   "outputs": [],
   "source": [
    "#Import packages\n",
    "import pandas as pd\n",
    "import numpy as np\n",
    "import scipy\n",
    "import warnings\n",
    "import matplotlib.pyplot as plt\n",
    "from scipy.optimize import curve_fit\n",
    "from scipy.optimize import differential_evolution\n",
    "from sklearn.metrics import r2_score"
   ]
  },
  {
   "cell_type": "code",
   "execution_count": 2,
   "metadata": {},
   "outputs": [
    {
     "data": {
      "text/html": [
       "<div>\n",
       "<style scoped>\n",
       "    .dataframe tbody tr th:only-of-type {\n",
       "        vertical-align: middle;\n",
       "    }\n",
       "\n",
       "    .dataframe tbody tr th {\n",
       "        vertical-align: top;\n",
       "    }\n",
       "\n",
       "    .dataframe thead th {\n",
       "        text-align: right;\n",
       "    }\n",
       "</style>\n",
       "<table border=\"1\" class=\"dataframe\">\n",
       "  <thead>\n",
       "    <tr style=\"text-align: right;\">\n",
       "      <th></th>\n",
       "      <th>T</th>\n",
       "      <th>2e-3nM</th>\n",
       "      <th>2e-2nM</th>\n",
       "      <th>2e-1nM</th>\n",
       "      <th>2nM</th>\n",
       "      <th>2e1nM</th>\n",
       "      <th>2e2nM</th>\n",
       "      <th>2e3nM</th>\n",
       "    </tr>\n",
       "  </thead>\n",
       "  <tbody>\n",
       "    <tr>\n",
       "      <th>0</th>\n",
       "      <td>0.03999</td>\n",
       "      <td>0.54110</td>\n",
       "      <td>-0.07351</td>\n",
       "      <td>0.49598</td>\n",
       "      <td>0.19276</td>\n",
       "      <td>0.54773</td>\n",
       "      <td>0.09752</td>\n",
       "      <td>-0.14705</td>\n",
       "    </tr>\n",
       "    <tr>\n",
       "      <th>1</th>\n",
       "      <td>0.13999</td>\n",
       "      <td>-0.17528</td>\n",
       "      <td>-0.42351</td>\n",
       "      <td>-0.13056</td>\n",
       "      <td>0.32326</td>\n",
       "      <td>0.05323</td>\n",
       "      <td>0.96236</td>\n",
       "      <td>-0.10489</td>\n",
       "    </tr>\n",
       "    <tr>\n",
       "      <th>2</th>\n",
       "      <td>0.23999</td>\n",
       "      <td>-0.14099</td>\n",
       "      <td>-0.11648</td>\n",
       "      <td>-0.02362</td>\n",
       "      <td>0.19115</td>\n",
       "      <td>-0.00857</td>\n",
       "      <td>0.66392</td>\n",
       "      <td>18.24355</td>\n",
       "    </tr>\n",
       "    <tr>\n",
       "      <th>3</th>\n",
       "      <td>0.34000</td>\n",
       "      <td>-0.39408</td>\n",
       "      <td>0.33508</td>\n",
       "      <td>-0.11577</td>\n",
       "      <td>0.02476</td>\n",
       "      <td>-0.16245</td>\n",
       "      <td>1.08736</td>\n",
       "      <td>23.67714</td>\n",
       "    </tr>\n",
       "    <tr>\n",
       "      <th>4</th>\n",
       "      <td>0.44000</td>\n",
       "      <td>-0.18473</td>\n",
       "      <td>-0.08055</td>\n",
       "      <td>-0.21501</td>\n",
       "      <td>-0.11822</td>\n",
       "      <td>0.15628</td>\n",
       "      <td>1.68188</td>\n",
       "      <td>25.60450</td>\n",
       "    </tr>\n",
       "    <tr>\n",
       "      <th>...</th>\n",
       "      <td>...</td>\n",
       "      <td>...</td>\n",
       "      <td>...</td>\n",
       "      <td>...</td>\n",
       "      <td>...</td>\n",
       "      <td>...</td>\n",
       "      <td>...</td>\n",
       "      <td>...</td>\n",
       "    </tr>\n",
       "    <tr>\n",
       "      <th>2402</th>\n",
       "      <td>240.24000</td>\n",
       "      <td>-0.16283</td>\n",
       "      <td>0.24290</td>\n",
       "      <td>3.70689</td>\n",
       "      <td>24.65600</td>\n",
       "      <td>57.20860</td>\n",
       "      <td>75.17100</td>\n",
       "      <td>93.87480</td>\n",
       "    </tr>\n",
       "    <tr>\n",
       "      <th>2403</th>\n",
       "      <td>240.34000</td>\n",
       "      <td>-0.10345</td>\n",
       "      <td>-0.09070</td>\n",
       "      <td>3.80377</td>\n",
       "      <td>24.84980</td>\n",
       "      <td>57.25010</td>\n",
       "      <td>75.59910</td>\n",
       "      <td>93.61030</td>\n",
       "    </tr>\n",
       "    <tr>\n",
       "      <th>2404</th>\n",
       "      <td>240.44000</td>\n",
       "      <td>0.00514</td>\n",
       "      <td>0.01711</td>\n",
       "      <td>3.71627</td>\n",
       "      <td>24.67160</td>\n",
       "      <td>57.17120</td>\n",
       "      <td>75.82950</td>\n",
       "      <td>93.81820</td>\n",
       "    </tr>\n",
       "    <tr>\n",
       "      <th>2405</th>\n",
       "      <td>240.54000</td>\n",
       "      <td>-0.03549</td>\n",
       "      <td>0.15462</td>\n",
       "      <td>3.85845</td>\n",
       "      <td>24.76620</td>\n",
       "      <td>56.88990</td>\n",
       "      <td>75.88110</td>\n",
       "      <td>93.88060</td>\n",
       "    </tr>\n",
       "    <tr>\n",
       "      <th>2406</th>\n",
       "      <td>240.64000</td>\n",
       "      <td>0.07935</td>\n",
       "      <td>0.13274</td>\n",
       "      <td>3.85532</td>\n",
       "      <td>24.86850</td>\n",
       "      <td>57.09150</td>\n",
       "      <td>75.46630</td>\n",
       "      <td>93.12110</td>\n",
       "    </tr>\n",
       "  </tbody>\n",
       "</table>\n",
       "<p>2407 rows × 8 columns</p>\n",
       "</div>"
      ],
      "text/plain": [
       "              T   2e-3nM   2e-2nM   2e-1nM       2nM     2e1nM     2e2nM  \\\n",
       "0       0.03999  0.54110 -0.07351  0.49598   0.19276   0.54773   0.09752   \n",
       "1       0.13999 -0.17528 -0.42351 -0.13056   0.32326   0.05323   0.96236   \n",
       "2       0.23999 -0.14099 -0.11648 -0.02362   0.19115  -0.00857   0.66392   \n",
       "3       0.34000 -0.39408  0.33508 -0.11577   0.02476  -0.16245   1.08736   \n",
       "4       0.44000 -0.18473 -0.08055 -0.21501  -0.11822   0.15628   1.68188   \n",
       "...         ...      ...      ...      ...       ...       ...       ...   \n",
       "2402  240.24000 -0.16283  0.24290  3.70689  24.65600  57.20860  75.17100   \n",
       "2403  240.34000 -0.10345 -0.09070  3.80377  24.84980  57.25010  75.59910   \n",
       "2404  240.44000  0.00514  0.01711  3.71627  24.67160  57.17120  75.82950   \n",
       "2405  240.54000 -0.03549  0.15462  3.85845  24.76620  56.88990  75.88110   \n",
       "2406  240.64000  0.07935  0.13274  3.85532  24.86850  57.09150  75.46630   \n",
       "\n",
       "         2e3nM  \n",
       "0     -0.14705  \n",
       "1     -0.10489  \n",
       "2     18.24355  \n",
       "3     23.67714  \n",
       "4     25.60450  \n",
       "...        ...  \n",
       "2402  93.87480  \n",
       "2403  93.61030  \n",
       "2404  93.81820  \n",
       "2405  93.88060  \n",
       "2406  93.12110  \n",
       "\n",
       "[2407 rows x 8 columns]"
      ]
     },
     "execution_count": 2,
     "metadata": {},
     "output_type": "execute_result"
    }
   ],
   "source": [
    "#Read the data file\n",
    "df = pd.read_csv('Association binding data.csv')\n",
    "df = df.drop(columns = 'Unnamed: 0')\n",
    "df"
   ]
  },
  {
   "cell_type": "code",
   "execution_count": 3,
   "metadata": {},
   "outputs": [],
   "source": [
    "def func(x, bmax_1, kon_1, bmax_2, kon_2, bmax_3, kon_3, conc, koff_1, koff_2, koff_3):\n",
    "    kob_1 = kon_1*conc + koff_1\n",
    "    kob_2 = kon_2*conc + koff_2\n",
    "    kob_3 = kon_3*conc + koff_3\n",
    "    return bmax_1*(1-np.exp(-kob_1*x)) + bmax_2*(1-np.exp(-kob_2*x)) + bmax_3*(1-np.exp(-kob_3*x))"
   ]
  },
  {
   "cell_type": "code",
   "execution_count": 4,
   "metadata": {},
   "outputs": [
    {
     "name": "stdout",
     "output_type": "stream",
     "text": [
      "Concentration(M): 2E-9\n",
      "koff_1: 1.9814580006436189\n",
      "koff_2: 0.0001283299841317005\n",
      "koff_3: 1.9336632505437739\n"
     ]
    }
   ],
   "source": [
    "conc = input('Concentration(M): ')\n",
    "koff_1 = input('koff_1: ')\n",
    "koff_2 = input('koff_2: ')\n",
    "koff_3 = input('koff_3: ')"
   ]
  },
  {
   "cell_type": "code",
   "execution_count": 5,
   "metadata": {},
   "outputs": [],
   "source": [
    "conc = float(conc)\n",
    "koff_1 = float(koff_1)\n",
    "koff_2 = float(koff_2)\n",
    "koff_3 = float(koff_3)"
   ]
  },
  {
   "cell_type": "code",
   "execution_count": 6,
   "metadata": {},
   "outputs": [
    {
     "name": "stdout",
     "output_type": "stream",
     "text": [
      "Column of data to fit: 2nM\n"
     ]
    }
   ],
   "source": [
    "column = input('Column of data to fit: ')"
   ]
  },
  {
   "cell_type": "code",
   "execution_count": 7,
   "metadata": {},
   "outputs": [],
   "source": [
    "xData = np.array(df.loc[:, 'T'])\n",
    "yData = np.array(df.loc[:, column])"
   ]
  },
  {
   "cell_type": "code",
   "execution_count": 8,
   "metadata": {},
   "outputs": [
    {
     "data": {
      "text/plain": [
       "array([ 1.92696779e+03, -2.40035106e+07,  3.61965636e+01,  2.33300989e+06,\n",
       "       -1.92698843e+03,  1.00000000e+00])"
      ]
     },
     "execution_count": 8,
     "metadata": {},
     "output_type": "execute_result"
    }
   ],
   "source": [
    "parameters, pcov = curve_fit(lambda x, bmax_1, kon_1, bmax_2, kon_2, bmax_3, kon_3: func(x, bmax_1, kon_1, bmax_2, kon_2, bmax_3, kon_3, conc, koff_1, koff_2, koff_3), xData, yData, method = 'dogbox')\n",
    "parameters"
   ]
  },
  {
   "cell_type": "code",
   "execution_count": 9,
   "metadata": {},
   "outputs": [
    {
     "data": {
      "image/png": "[encoded data removed]",
      "text/plain": [
       "<Figure size 800x600 with 1 Axes>"
      ]
     },
     "metadata": {
      "needs_background": "light"
     },
     "output_type": "display_data"
    },
    {
     "name": "stdout",
     "output_type": "stream",
     "text": [
      "kon_1: -24003510.626793433\n",
      "kon_2: 2333009.887360772\n",
      "kon_3: 1.0\n"
     ]
    }
   ],
   "source": [
    "graphWidth = 800\n",
    "graphHeight = 600\n",
    "f = plt.figure(figsize=(graphWidth/100.0, graphHeight/100.0), dpi=100)\n",
    "axes = f.add_subplot(111)\n",
    "axes.plot(xData, yData,  'D')\n",
    "xModel = np.linspace(min(xData), max(xData))\n",
    "yModel = func(xModel, parameters[0], parameters[1], parameters[2], parameters[3], parameters[4], parameters[5], conc, koff_1, koff_2, koff_3)\n",
    "axes.plot(xModel, yModel)  \n",
    "axes.set_xlabel('X Data') # X axis data label\n",
    "axes.set_ylabel('Y Data') # Y axis data label\n",
    "plt.show()\n",
    "plt.close('all') # clean up after using pyplot\n",
    "print('kon_1:', parameters[1])\n",
    "print('kon_2:', parameters[3])\n",
    "print('kon_3:', parameters[5])"
   ]
  },
  {
   "cell_type": "code",
   "execution_count": null,
   "metadata": {},
   "outputs": [],
   "source": []
  }
 ],
 "metadata": {
  "kernelspec": {
   "display_name": "Python 3",
   "language": "python",
   "name": "python3"
  },
  "language_info": {
   "codemirror_mode": {
    "name": "ipython",
    "version": 3
   },
   "file_extension": ".py",
   "mimetype": "text/x-python",
   "name": "python",
   "nbconvert_exporter": "python",
   "pygments_lexer": "ipython3",
   "version": "3.8.3"
  }
 },
 "nbformat": 4,
 "nbformat_minor": 4
}
